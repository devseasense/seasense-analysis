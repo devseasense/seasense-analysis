{
  "nbformat": 4,
  "nbformat_minor": 0,
  "metadata": {
    "colab": {
      "provenance": [],
      "mount_file_id": "1qL_2e5zuHE089KaTiF2ItzRavIOlomrp",
      "authorship_tag": "ABX9TyPMbOforvhGAL+3rtzkoXLm",
      "include_colab_link": true
    },
    "kernelspec": {
      "name": "python3",
      "display_name": "Python 3"
    },
    "language_info": {
      "name": "python"
    }
  },
  "cells": [
    {
      "cell_type": "markdown",
      "metadata": {
        "id": "view-in-github",
        "colab_type": "text"
      },
      "source": [
        "<a href=\"https://colab.research.google.com/github/cosierlabs/geomapper_jupyter/blob/main/Geomapper.ipynb\" target=\"_parent\"><img src=\"https://colab.research.google.com/assets/colab-badge.svg\" alt=\"Open In Colab\"/></a>"
      ]
    },
    {
      "cell_type": "markdown",
      "source": [
        "Installed Packages"
      ],
      "metadata": {
        "id": "GcadNsZNusRg"
      }
    },
    {
      "cell_type": "code",
      "source": [
        "!pip install cartopy\n",
        "!pip install hvplot\n",
        "!pip install netCDF4 xarray\n",
        "!pip install metpy"
      ],
      "metadata": {
        "colab": {
          "base_uri": "https://localhost:8080/"
        },
        "id": "ee52bWT4ugkY",
        "outputId": "e04c1128-c768-4741-bbc8-67a49763378d",
        "collapsed": true
      },
      "execution_count": null,
      "outputs": [
        {
          "output_type": "stream",
          "name": "stdout",
          "text": [
            "Collecting cartopy\n",
            "  Downloading Cartopy-0.23.0-cp310-cp310-manylinux_2_17_x86_64.manylinux2014_x86_64.whl.metadata (8.0 kB)\n",
            "Requirement already satisfied: numpy>=1.21 in /usr/local/lib/python3.10/dist-packages (from cartopy) (1.26.4)\n",
            "Requirement already satisfied: matplotlib>=3.5 in /usr/local/lib/python3.10/dist-packages (from cartopy) (3.7.1)\n",
            "Requirement already satisfied: shapely>=1.7 in /usr/local/lib/python3.10/dist-packages (from cartopy) (2.0.6)\n",
            "Requirement already satisfied: packaging>=20 in /usr/local/lib/python3.10/dist-packages (from cartopy) (24.1)\n",
            "Requirement already satisfied: pyshp>=2.3 in /usr/local/lib/python3.10/dist-packages (from cartopy) (2.3.1)\n",
            "Requirement already satisfied: pyproj>=3.3.1 in /usr/local/lib/python3.10/dist-packages (from cartopy) (3.6.1)\n",
            "Requirement already satisfied: contourpy>=1.0.1 in /usr/local/lib/python3.10/dist-packages (from matplotlib>=3.5->cartopy) (1.2.1)\n",
            "Requirement already satisfied: cycler>=0.10 in /usr/local/lib/python3.10/dist-packages (from matplotlib>=3.5->cartopy) (0.12.1)\n",
            "Requirement already satisfied: fonttools>=4.22.0 in /usr/local/lib/python3.10/dist-packages (from matplotlib>=3.5->cartopy) (4.53.1)\n",
            "Requirement already satisfied: kiwisolver>=1.0.1 in /usr/local/lib/python3.10/dist-packages (from matplotlib>=3.5->cartopy) (1.4.5)\n",
            "Requirement already satisfied: pillow>=6.2.0 in /usr/local/lib/python3.10/dist-packages (from matplotlib>=3.5->cartopy) (9.4.0)\n",
            "Requirement already satisfied: pyparsing>=2.3.1 in /usr/local/lib/python3.10/dist-packages (from matplotlib>=3.5->cartopy) (3.1.4)\n",
            "Requirement already satisfied: python-dateutil>=2.7 in /usr/local/lib/python3.10/dist-packages (from matplotlib>=3.5->cartopy) (2.8.2)\n",
            "Requirement already satisfied: certifi in /usr/local/lib/python3.10/dist-packages (from pyproj>=3.3.1->cartopy) (2024.7.4)\n",
            "Requirement already satisfied: six>=1.5 in /usr/local/lib/python3.10/dist-packages (from python-dateutil>=2.7->matplotlib>=3.5->cartopy) (1.16.0)\n",
            "Downloading Cartopy-0.23.0-cp310-cp310-manylinux_2_17_x86_64.manylinux2014_x86_64.whl (11.6 MB)\n",
            "\u001b[2K   \u001b[90m━━━━━━━━━━━━━━━━━━━━━━━━━━━━━━━━━━━━━━━━\u001b[0m \u001b[32m11.6/11.6 MB\u001b[0m \u001b[31m48.2 MB/s\u001b[0m eta \u001b[36m0:00:00\u001b[0m\n",
            "\u001b[?25hInstalling collected packages: cartopy\n",
            "Successfully installed cartopy-0.23.0\n",
            "Collecting hvplot\n",
            "  Downloading hvplot-0.10.0-py3-none-any.whl.metadata (15 kB)\n",
            "Requirement already satisfied: bokeh>=1.0.0 in /usr/local/lib/python3.10/dist-packages (from hvplot) (3.4.3)\n",
            "Requirement already satisfied: colorcet>=2 in /usr/local/lib/python3.10/dist-packages (from hvplot) (3.1.0)\n",
            "Requirement already satisfied: holoviews>=1.11.0 in /usr/local/lib/python3.10/dist-packages (from hvplot) (1.18.3)\n",
            "Requirement already satisfied: numpy>=1.15 in /usr/local/lib/python3.10/dist-packages (from hvplot) (1.26.4)\n",
            "Requirement already satisfied: packaging in /usr/local/lib/python3.10/dist-packages (from hvplot) (24.1)\n",
            "Requirement already satisfied: pandas in /usr/local/lib/python3.10/dist-packages (from hvplot) (2.1.4)\n",
            "Requirement already satisfied: panel>=0.11.0 in /usr/local/lib/python3.10/dist-packages (from hvplot) (1.4.5)\n",
            "Requirement already satisfied: param<3.0,>=1.12.0 in /usr/local/lib/python3.10/dist-packages (from hvplot) (2.1.1)\n",
            "Requirement already satisfied: Jinja2>=2.9 in /usr/local/lib/python3.10/dist-packages (from bokeh>=1.0.0->hvplot) (3.1.4)\n",
            "Requirement already satisfied: contourpy>=1.2 in /usr/local/lib/python3.10/dist-packages (from bokeh>=1.0.0->hvplot) (1.2.1)\n",
            "Requirement already satisfied: pillow>=7.1.0 in /usr/local/lib/python3.10/dist-packages (from bokeh>=1.0.0->hvplot) (9.4.0)\n",
            "Requirement already satisfied: PyYAML>=3.10 in /usr/local/lib/python3.10/dist-packages (from bokeh>=1.0.0->hvplot) (6.0.2)\n",
            "Requirement already satisfied: tornado>=6.2 in /usr/local/lib/python3.10/dist-packages (from bokeh>=1.0.0->hvplot) (6.3.3)\n",
            "Requirement already satisfied: xyzservices>=2021.09.1 in /usr/local/lib/python3.10/dist-packages (from bokeh>=1.0.0->hvplot) (2024.6.0)\n",
            "Requirement already satisfied: pyviz-comms>=0.7.4 in /usr/local/lib/python3.10/dist-packages (from holoviews>=1.11.0->hvplot) (3.0.3)\n",
            "Requirement already satisfied: python-dateutil>=2.8.2 in /usr/local/lib/python3.10/dist-packages (from pandas->hvplot) (2.8.2)\n",
            "Requirement already satisfied: pytz>=2020.1 in /usr/local/lib/python3.10/dist-packages (from pandas->hvplot) (2024.1)\n",
            "Requirement already satisfied: tzdata>=2022.1 in /usr/local/lib/python3.10/dist-packages (from pandas->hvplot) (2024.1)\n",
            "Requirement already satisfied: markdown in /usr/local/lib/python3.10/dist-packages (from panel>=0.11.0->hvplot) (3.7)\n",
            "Requirement already satisfied: markdown-it-py in /usr/local/lib/python3.10/dist-packages (from panel>=0.11.0->hvplot) (3.0.0)\n",
            "Requirement already satisfied: linkify-it-py in /usr/local/lib/python3.10/dist-packages (from panel>=0.11.0->hvplot) (2.0.3)\n",
            "Requirement already satisfied: mdit-py-plugins in /usr/local/lib/python3.10/dist-packages (from panel>=0.11.0->hvplot) (0.4.1)\n",
            "Requirement already satisfied: requests in /usr/local/lib/python3.10/dist-packages (from panel>=0.11.0->hvplot) (2.32.3)\n",
            "Requirement already satisfied: tqdm>=4.48.0 in /usr/local/lib/python3.10/dist-packages (from panel>=0.11.0->hvplot) (4.66.5)\n",
            "Requirement already satisfied: bleach in /usr/local/lib/python3.10/dist-packages (from panel>=0.11.0->hvplot) (6.1.0)\n",
            "Requirement already satisfied: typing-extensions in /usr/local/lib/python3.10/dist-packages (from panel>=0.11.0->hvplot) (4.12.2)\n",
            "Requirement already satisfied: MarkupSafe>=2.0 in /usr/local/lib/python3.10/dist-packages (from Jinja2>=2.9->bokeh>=1.0.0->hvplot) (2.1.5)\n",
            "Requirement already satisfied: six>=1.5 in /usr/local/lib/python3.10/dist-packages (from python-dateutil>=2.8.2->pandas->hvplot) (1.16.0)\n",
            "Requirement already satisfied: webencodings in /usr/local/lib/python3.10/dist-packages (from bleach->panel>=0.11.0->hvplot) (0.5.1)\n",
            "Requirement already satisfied: uc-micro-py in /usr/local/lib/python3.10/dist-packages (from linkify-it-py->panel>=0.11.0->hvplot) (1.0.3)\n",
            "Requirement already satisfied: mdurl~=0.1 in /usr/local/lib/python3.10/dist-packages (from markdown-it-py->panel>=0.11.0->hvplot) (0.1.2)\n",
            "Requirement already satisfied: charset-normalizer<4,>=2 in /usr/local/lib/python3.10/dist-packages (from requests->panel>=0.11.0->hvplot) (3.3.2)\n",
            "Requirement already satisfied: idna<4,>=2.5 in /usr/local/lib/python3.10/dist-packages (from requests->panel>=0.11.0->hvplot) (3.8)\n",
            "Requirement already satisfied: urllib3<3,>=1.21.1 in /usr/local/lib/python3.10/dist-packages (from requests->panel>=0.11.0->hvplot) (2.0.7)\n",
            "Requirement already satisfied: certifi>=2017.4.17 in /usr/local/lib/python3.10/dist-packages (from requests->panel>=0.11.0->hvplot) (2024.7.4)\n",
            "Downloading hvplot-0.10.0-py3-none-any.whl (155 kB)\n",
            "\u001b[2K   \u001b[90m━━━━━━━━━━━━━━━━━━━━━━━━━━━━━━━━━━━━━━━━\u001b[0m \u001b[32m155.4/155.4 kB\u001b[0m \u001b[31m5.0 MB/s\u001b[0m eta \u001b[36m0:00:00\u001b[0m\n",
            "\u001b[?25hInstalling collected packages: hvplot\n",
            "Successfully installed hvplot-0.10.0\n",
            "Collecting netCDF4\n",
            "  Downloading netCDF4-1.7.1.post2-cp310-cp310-manylinux_2_17_x86_64.manylinux2014_x86_64.whl.metadata (1.8 kB)\n",
            "Requirement already satisfied: xarray in /usr/local/lib/python3.10/dist-packages (2024.6.0)\n",
            "Collecting cftime (from netCDF4)\n",
            "  Downloading cftime-1.6.4-cp310-cp310-manylinux_2_17_x86_64.manylinux2014_x86_64.whl.metadata (8.7 kB)\n",
            "Requirement already satisfied: certifi in /usr/local/lib/python3.10/dist-packages (from netCDF4) (2024.7.4)\n",
            "Requirement already satisfied: numpy in /usr/local/lib/python3.10/dist-packages (from netCDF4) (1.26.4)\n",
            "Requirement already satisfied: packaging>=23.1 in /usr/local/lib/python3.10/dist-packages (from xarray) (24.1)\n",
            "Requirement already satisfied: pandas>=2.0 in /usr/local/lib/python3.10/dist-packages (from xarray) (2.1.4)\n",
            "Requirement already satisfied: python-dateutil>=2.8.2 in /usr/local/lib/python3.10/dist-packages (from pandas>=2.0->xarray) (2.8.2)\n",
            "Requirement already satisfied: pytz>=2020.1 in /usr/local/lib/python3.10/dist-packages (from pandas>=2.0->xarray) (2024.1)\n",
            "Requirement already satisfied: tzdata>=2022.1 in /usr/local/lib/python3.10/dist-packages (from pandas>=2.0->xarray) (2024.1)\n",
            "Requirement already satisfied: six>=1.5 in /usr/local/lib/python3.10/dist-packages (from python-dateutil>=2.8.2->pandas>=2.0->xarray) (1.16.0)\n",
            "Downloading netCDF4-1.7.1.post2-cp310-cp310-manylinux_2_17_x86_64.manylinux2014_x86_64.whl (9.0 MB)\n",
            "\u001b[2K   \u001b[90m━━━━━━━━━━━━━━━━━━━━━━━━━━━━━━━━━━━━━━━━\u001b[0m \u001b[32m9.0/9.0 MB\u001b[0m \u001b[31m62.4 MB/s\u001b[0m eta \u001b[36m0:00:00\u001b[0m\n",
            "\u001b[?25hDownloading cftime-1.6.4-cp310-cp310-manylinux_2_17_x86_64.manylinux2014_x86_64.whl (1.3 MB)\n",
            "\u001b[2K   \u001b[90m━━━━━━━━━━━━━━━━━━━━━━━━━━━━━━━━━━━━━━━━\u001b[0m \u001b[32m1.3/1.3 MB\u001b[0m \u001b[31m39.1 MB/s\u001b[0m eta \u001b[36m0:00:00\u001b[0m\n",
            "\u001b[?25hInstalling collected packages: cftime, netCDF4\n",
            "Successfully installed cftime-1.6.4 netCDF4-1.7.1.post2\n",
            "Collecting metpy\n",
            "  Downloading MetPy-1.6.3-py3-none-any.whl.metadata (8.6 kB)\n",
            "Requirement already satisfied: matplotlib>=3.5.0 in /usr/local/lib/python3.10/dist-packages (from metpy) (3.7.1)\n",
            "Requirement already satisfied: numpy>=1.20.0 in /usr/local/lib/python3.10/dist-packages (from metpy) (1.26.4)\n",
            "Requirement already satisfied: pandas>=1.4.0 in /usr/local/lib/python3.10/dist-packages (from metpy) (2.1.4)\n",
            "Collecting pint>=0.17 (from metpy)\n",
            "  Downloading Pint-0.24.3-py3-none-any.whl.metadata (8.5 kB)\n",
            "Requirement already satisfied: pooch>=1.2.0 in /usr/local/lib/python3.10/dist-packages (from metpy) (1.8.2)\n",
            "Requirement already satisfied: pyproj>=3.0.0 in /usr/local/lib/python3.10/dist-packages (from metpy) (3.6.1)\n",
            "Requirement already satisfied: scipy>=1.8.0 in /usr/local/lib/python3.10/dist-packages (from metpy) (1.13.1)\n",
            "Requirement already satisfied: traitlets>=5.0.5 in /usr/local/lib/python3.10/dist-packages (from metpy) (5.7.1)\n",
            "Requirement already satisfied: xarray>=0.21.0 in /usr/local/lib/python3.10/dist-packages (from metpy) (2024.6.0)\n",
            "Requirement already satisfied: contourpy>=1.0.1 in /usr/local/lib/python3.10/dist-packages (from matplotlib>=3.5.0->metpy) (1.2.1)\n",
            "Requirement already satisfied: cycler>=0.10 in /usr/local/lib/python3.10/dist-packages (from matplotlib>=3.5.0->metpy) (0.12.1)\n",
            "Requirement already satisfied: fonttools>=4.22.0 in /usr/local/lib/python3.10/dist-packages (from matplotlib>=3.5.0->metpy) (4.53.1)\n",
            "Requirement already satisfied: kiwisolver>=1.0.1 in /usr/local/lib/python3.10/dist-packages (from matplotlib>=3.5.0->metpy) (1.4.5)\n",
            "Requirement already satisfied: packaging>=20.0 in /usr/local/lib/python3.10/dist-packages (from matplotlib>=3.5.0->metpy) (24.1)\n",
            "Requirement already satisfied: pillow>=6.2.0 in /usr/local/lib/python3.10/dist-packages (from matplotlib>=3.5.0->metpy) (9.4.0)\n",
            "Requirement already satisfied: pyparsing>=2.3.1 in /usr/local/lib/python3.10/dist-packages (from matplotlib>=3.5.0->metpy) (3.1.4)\n",
            "Requirement already satisfied: python-dateutil>=2.7 in /usr/local/lib/python3.10/dist-packages (from matplotlib>=3.5.0->metpy) (2.8.2)\n",
            "Requirement already satisfied: pytz>=2020.1 in /usr/local/lib/python3.10/dist-packages (from pandas>=1.4.0->metpy) (2024.1)\n",
            "Requirement already satisfied: tzdata>=2022.1 in /usr/local/lib/python3.10/dist-packages (from pandas>=1.4.0->metpy) (2024.1)\n",
            "Collecting appdirs>=1.4.4 (from pint>=0.17->metpy)\n",
            "  Downloading appdirs-1.4.4-py2.py3-none-any.whl.metadata (9.0 kB)\n",
            "Requirement already satisfied: typing-extensions in /usr/local/lib/python3.10/dist-packages (from pint>=0.17->metpy) (4.12.2)\n",
            "Collecting flexcache>=0.3 (from pint>=0.17->metpy)\n",
            "  Downloading flexcache-0.3-py3-none-any.whl.metadata (7.0 kB)\n",
            "Collecting flexparser>=0.3 (from pint>=0.17->metpy)\n",
            "  Downloading flexparser-0.3.1-py3-none-any.whl.metadata (18 kB)\n",
            "Requirement already satisfied: platformdirs>=2.5.0 in /usr/local/lib/python3.10/dist-packages (from pooch>=1.2.0->metpy) (4.2.2)\n",
            "Requirement already satisfied: requests>=2.19.0 in /usr/local/lib/python3.10/dist-packages (from pooch>=1.2.0->metpy) (2.32.3)\n",
            "Requirement already satisfied: certifi in /usr/local/lib/python3.10/dist-packages (from pyproj>=3.0.0->metpy) (2024.7.4)\n",
            "Requirement already satisfied: six>=1.5 in /usr/local/lib/python3.10/dist-packages (from python-dateutil>=2.7->matplotlib>=3.5.0->metpy) (1.16.0)\n",
            "Requirement already satisfied: charset-normalizer<4,>=2 in /usr/local/lib/python3.10/dist-packages (from requests>=2.19.0->pooch>=1.2.0->metpy) (3.3.2)\n",
            "Requirement already satisfied: idna<4,>=2.5 in /usr/local/lib/python3.10/dist-packages (from requests>=2.19.0->pooch>=1.2.0->metpy) (3.8)\n",
            "Requirement already satisfied: urllib3<3,>=1.21.1 in /usr/local/lib/python3.10/dist-packages (from requests>=2.19.0->pooch>=1.2.0->metpy) (2.0.7)\n",
            "Downloading MetPy-1.6.3-py3-none-any.whl (409 kB)\n",
            "\u001b[2K   \u001b[90m━━━━━━━━━━━━━━━━━━━━━━━━━━━━━━━━━━━━━━━━\u001b[0m \u001b[32m409.9/409.9 kB\u001b[0m \u001b[31m8.0 MB/s\u001b[0m eta \u001b[36m0:00:00\u001b[0m\n",
            "\u001b[?25hDownloading Pint-0.24.3-py3-none-any.whl (301 kB)\n",
            "\u001b[2K   \u001b[90m━━━━━━━━━━━━━━━━━━━━━━━━━━━━━━━━━━━━━━━━\u001b[0m \u001b[32m301.8/301.8 kB\u001b[0m \u001b[31m13.1 MB/s\u001b[0m eta \u001b[36m0:00:00\u001b[0m\n",
            "\u001b[?25hDownloading appdirs-1.4.4-py2.py3-none-any.whl (9.6 kB)\n",
            "Downloading flexcache-0.3-py3-none-any.whl (13 kB)\n",
            "Downloading flexparser-0.3.1-py3-none-any.whl (27 kB)\n",
            "Installing collected packages: appdirs, flexparser, flexcache, pint, metpy\n",
            "Successfully installed appdirs-1.4.4 flexcache-0.3 flexparser-0.3.1 metpy-1.6.3 pint-0.24.3\n"
          ]
        }
      ]
    },
    {
      "cell_type": "markdown",
      "source": [
        "NetCDF Global Sea Surface Temperature map visualization."
      ],
      "metadata": {
        "id": "GRjQZuEcdG08"
      }
    },
    {
      "cell_type": "code",
      "source": [
        "import cartopy.feature as cfeature\n",
        "import cartopy.crs as ccrs\n",
        "import matplotlib.pyplot as plt\n",
        "import firebase_admin\n",
        "from firebase_admin import credentials, firestore\n",
        "import json\n",
        "import xarray as xr\n",
        "import numpy as np\n",
        "from metpy.cbook import get_test_data\n",
        "\n",
        "\n",
        "dataset = xr.open_dataset('20190210000000-NAVO-L4_GHRSST-SST1m-K10_SST-GLOB-v02.0-fv01.0.nc4')\n",
        "ds_var = dataset.metpy.parse_cf('analysed_sst')\n",
        "\n",
        "# lat = dataset.lat.values\n",
        "# lon = dataset.lon.values\n",
        "# sst = dataset['analysed_sst'].isel(time=0).values - 273.15\n",
        "\n",
        "lat_min, lat_max = 6.5, 8.0\n",
        "lon_min, lon_max = 125.0, 130.5\n",
        "\n",
        "# Filtering the variable and coordinates\n",
        "filtered_sst_data = dataset['analysed_sst'].isel(time=0).sel(lat=slice(lat_max, lat_min), lon=slice(lon_min, lon_max)).values\n",
        "filtered_lat = dataset['lat'].sel(lat=slice(lat_max, lat_min)).values\n",
        "filtered_lon = dataset['lon'].sel(lon=slice(lon_min, lon_max)).values\n",
        "\n",
        "# Plotting the geospatial map\n",
        "fig, ax = plt.subplots(figsize=(5, 5), subplot_kw={'projection': ccrs.PlateCarree()})\n",
        "ax.set_title('Sea Surface Temperature around the Philippines')\n",
        "im_sst = ax.imshow(filtered_sst_data, extent=(lon_min, lon_max, lat_min, lat_max),\n",
        "                   cmap='jet', origin='upper', transform=ccrs.PlateCarree())\n",
        "ax.add_feature(cfeature.LAND, zorder=1, edgecolor='black')\n",
        "ax.add_feature(cfeature.COASTLINE, zorder=1)\n",
        "ax.set_extent([lon_min, lon_max, lat_min, lat_max], crs=ccrs.PlateCarree())\n",
        "\n",
        "cbar_sst = plt.colorbar(im_sst, ax=ax, orientation='vertical', pad=0.05, aspect=50)\n",
        "cbar_sst.set_label('Sea Surface Temperature (°C)')\n",
        "\n",
        "plt.tight_layout()\n",
        "plt.show()\n",
        "\n",
        "# lat = ds_var.lat.values\n",
        "# lon = ds_var.lon.values\n",
        "# sst = ds_var.isel(time=0).values - 273.15\n",
        "\n",
        "# print(\"Dataset Information:\")\n",
        "# print(ds_var)"
      ],
      "metadata": {
        "id": "CHyNzy5MjF22",
        "colab": {
          "base_uri": "https://localhost:8080/",
          "height": 507
        },
        "outputId": "e49b9647-ac86-4d1c-ae48-7b617f8efef4"
      },
      "execution_count": null,
      "outputs": [
        {
          "output_type": "display_data",
          "data": {
            "text/plain": [
              "<Figure size 500x500 with 2 Axes>"
            ],
            "image/png": "[encoded data removed]"
          },
          "metadata": {}
        }
      ]
    },
    {
      "cell_type": "markdown",
      "source": [
        "TO IDENTIFY VARIABLES NAMES AND DIMENSIONS"
      ],
      "metadata": {
        "id": "BzAV4s4OGzkv"
      }
    },
    {
      "cell_type": "code",
      "source": [
        "# for var_names in dataset.data_vars:\n",
        "#   variable = dataset[var_names]\n",
        "#   print(f\"\\nVariable: {var_names}\")\n",
        "#   print(f\"\\nDimensions: {variable.dims}\")\n",
        "#   print(f\"Shape: {variable.shape}\")\n",
        "\n",
        "#   print(f\"Sample data: {variable.values[:5]}\")\n",
        "\n",
        "# TO CHECK FOR NAN VALUES IN SST DATA\n",
        "\n",
        "# print(\"Check for NaN values in SST Data...\")\n",
        "# nan_count = xr.DataArray(sst).isnull().sum()\n",
        "# total_count = sst.size\n",
        "# valid_count = total_count - nan_count\n",
        "\n",
        "# print(f\"Total SST Data points: {total_count}\")\n",
        "# print(f\"Valid SST data points: {valid_count}\")\n",
        "# print(f\"NaN SST data points: {nan_count}\")"
      ],
      "metadata": {
        "id": "niCBXvvKG3af"
      },
      "execution_count": null,
      "outputs": []
    },
    {
      "cell_type": "markdown",
      "source": [
        "OLD CODE"
      ],
      "metadata": {
        "id": "r7m1csxHB32p"
      }
    },
    {
      "cell_type": "code",
      "source": [
        "# \"5\" resembles the tile size\n",
        "# for lat_start in range(int(min(lat)), int(max(lat)), 5):\n",
        "#     for lon_start in range(int(min(lon)), int(max(lon)), 5):\n",
        "#         lat_end = lat_start + 5\n",
        "#         lon_end = lon_start + 5\n",
        "\n",
        "#         # Segment the data\n",
        "#         segment = {\n",
        "#             'lat': [l for l in lat if lat_start <= l < lat_end],\n",
        "#             'lon': [l for l in lon if lon_start <= l < lon_end],\n",
        "#             'sst': [\n",
        "#                 row[lon.index(lon_start):lon.index(lon_end)]\n",
        "#                 for row in sst[lat.index(lat_start):lat.index(lat_end)]\n",
        "#             ],\n",
        "#         }\n",
        "#         # print(f\"Tile {lat_start}°-{lat_end}°, {lon_start}°-{lon_end}°:\")\n",
        "#         # print(segment)\n",
        "#         # print(\"\\n\" + \"=\" * 40 + \"\\n\")\n",
        "\n",
        "#         # Plot the segment on the map\n",
        "#         # fig = plt.figure(figsize=(10, 10))\n",
        "#         # ax = fig.add_subplot(1, 1, 1, projection=ccrs.PlateCarree())\n",
        "#         # ax.set_extent([lon_start, lon_end, lat_start, lat_end], crs=ccrs.PlateCarree())\n",
        "\n",
        "#         # mp = ax.imshow(segment['sst'], extent=(lon_start, lon_end, lat_start, lat_end),\n",
        "#         #                cmap='jet', origin='upper', transform=ccrs.PlateCarree())\n",
        "#         # ax.add_feature(cfeature.LAND, zorder=1, edgecolor='black')\n",
        "#         # ax.add_feature(cfeature.COASTLINE, zorder=1)\n",
        "\n",
        "#         # cbar = plt.colorbar(mp, orientation='vertical', pad=0.05, aspect=50)\n",
        "#         # cbar.set_label('Sea Surface Temperature (°C)')\n",
        "#         # plt.title(f'Sea Surface Temperature\\nTile: {lat_start}°-{lat_end}°, {lon_start}°-{lon_end}°')\n",
        "#         # plt.show()\n",
        "\n",
        "#         # Break after the first tile for demonstration\n",
        "#         break\n",
        "#     break\n",
        "\n",
        "\n",
        "# with open('sst_data.json', 'w') as outfile:\n",
        "#   json.dump(map_data,outfile)\n",
        "\n",
        "# cred = credentials.Certificate('geomapper-d2b26-firebase-adminsdk-ee6he-afa0190bb3.json')\n",
        "# firebase_admin.initialize_app(cred)\n",
        "# db = firestore.client()\n",
        "\n",
        "# doc_ref = db.collection('SSTData').document('SST_Map')\n",
        "# doc_ref.set(map_data)"
      ],
      "metadata": {
        "id": "z10ji04wB3G5"
      },
      "execution_count": null,
      "outputs": []
    },
    {
      "cell_type": "code",
      "source": [
        "# import netCDF4 as nc\n",
        "# import numpy as np\n",
        "# import xarray as xr\n",
        "# import hvplot.xarray\n",
        "# import matplotlib.pyplot as plt\n",
        "# import cartopy.crs as crs\n",
        "# import cartopy.feature as cfeature\n",
        "\n",
        "# dataset = nc.Dataset('20190210000000-NAVO-L4_GHRSST-SST1m-K10_SST-GLOB-v02.0-fv01.0.nc4', mode='r')\n",
        "\n",
        "# latitude = dataset.variables['lat'][:]\n",
        "# longitude = dataset.variables['lon'][:]\n",
        "# seasurface_temp = dataset.variables['analysed_sst'][0, :, :]\n",
        "\n",
        "# sst_celcius = seasurface_temp - 273.15\n",
        "\n",
        "# plt.figure(figsize=(8,8))\n",
        "# ax = plt.axes(projection=crs.PlateCarree())\n",
        "\n",
        "# ax.set_extent([120, 130, 5, 10], crs=crs.PlateCarree())\n",
        "# ax.coastlines(resolution='110m')\n",
        "# ax.add_feature(cfeature.BORDERS, linestyle=':')\n",
        "# ax.add_feature(cfeature.LAND, color='green')\n",
        "# ax.add_feature(cfeature.OCEAN, color='lightblue')\n",
        "\n",
        "\n",
        "# lon, lat = np.meshgrid(longitude, latitude)\n",
        "\n",
        "# sst_plot = ax.pcolormesh(lon, lat, sst_celcius, cmap='coolwarm', transform=crs.PlateCarree())\n",
        "\n",
        "# cbar = plt.colorbar(sst_plot, orientation='horizontal', pad=0.07)\n",
        "# cbar.set_label('Sea Surface Temperature (°C)')\n",
        "# plt.title('Global Sea Surface Temperature')\n",
        "# plt.show()\n",
        "\n"
      ],
      "metadata": {
        "id": "JCvjbQPFvAeg"
      },
      "execution_count": null,
      "outputs": []
    },
    {
      "cell_type": "code",
      "source": [],
      "metadata": {
        "id": "ZfWVmenteLIt"
      },
      "execution_count": null,
      "outputs": []
    }
  ]
}